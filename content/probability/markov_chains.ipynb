{
 "cells": [
  {
   "cell_type": "markdown",
   "metadata": {},
   "source": [
    "<figure>\n",
    "  <center><img style='height: 100%; width: 100%; object-fit: contain' src=\"../images/dalle_desert.png\" /></center>\n",
    "  <center><figcaption>What is the structure of chaos? Does it all begin with the Markov chain?</figcaption></center>\n",
    "</figure>"
   ]
  },
  {
   "attachments": {},
   "cell_type": "markdown",
   "metadata": {},
   "source": [
    "### **Discrete Time Markov Chains**"
   ]
  },
  {
   "attachments": {},
   "cell_type": "markdown",
   "metadata": {},
   "source": [
    "A discrete-time random process, {${X_m,m=0,1,2,…}$}, is a sequence of random variables that are observed at different time steps. In the simplest case where the $X_m$'s are independent, the analysis of this process is straightforward. However, in many real-life situations, the $X_m$'s are not independent and we need to develop models where the value of $X_m$ depends on the previous values. One such model is a Markov chain which is typically the shorthand used for what is the discrete time Markov chain. \n",
    "\n",
    "In a Markov chain, $X_{m+1}$ depends on $X_m$, but given $X_m$, it does not depend on the other previous values $X_0, X_1, \\ldots, X_{m-1}$. This means that conditioned on $X_m$, the random variable $X_{m+1}$ is independent of the random variables $X_0, X_1, \\ldots, X_{m-1}$. Another way to look at it is, determination of future states only depends on the current state and not the past states. This Markov property is sometimes called **memorylessness**. In practice, Markov chains are used to model the evolution of states in probabilistic systems. For example, if we are modeling a queue at a bank, the number of people in the queue can be defined as the state of the system.\n",
    "\n"
   ]
  },
  {
   "attachments": {},
   "cell_type": "markdown",
   "metadata": {},
   "source": [
    "### **Formal Definition**"
   ]
  },
  {
   "attachments": {},
   "cell_type": "markdown",
   "metadata": {},
   "source": [
    "Let us define a random process {${X_n,n=0,1,2,\\ldots}$}, where the random variables' ranges, $R_{X_i} = S \\subseteq \\{0,1,2,\\ldots\\}$, are discrete. \n",
    "For any positive integer $m$ and possible states $i_0, i_1, ..., i_{m}$, we say that the process is in state $i_m$ at time $m$ if $X_m = i_m$.\n",
    "Formally, this process is a Markov chain if $$P(X_{m+1}=j|X_m=i,X_{m-1}=i_{m-1},\\ldots,X_0=i_0) = P(X_{m+1}=j|X_m=i)$$ for all $m,j,i,i_0,i_1,\\ldots i_{m-1}$. This is known as the **Markov Property**. The numbers $P(X_{m+1}=j|X_m=i)$ are called the transition probabilities and they do not depend on time. Thus, we can define a **transition probability matrix**:\n",
    "\n",
    "$$p_{ij} = P(X_{m+1}=j|X_m=i)$$\n",
    "\n",
    "Here, $p_{ij}$ is the probability of transitioning from state $i$ to state $j$.\n",
    "\n",
    "In addition, we also have $p_{ij} = P(X_1=j|X_0=i) = P(X_2=j|X_1=i) = P(X_3=j|X_2=i) = \\ldots$. This means that if the process is in state $i$, it will next make a transition to state $j$ with probability $p_{ij}$, independent of what particular time step we find ourselves at."
   ]
  },
  {
   "attachments": {},
   "cell_type": "markdown",
   "metadata": {},
   "source": [
    "### **Code Example**"
   ]
  },
  {
   "attachments": {},
   "cell_type": "markdown",
   "metadata": {},
   "source": [
    "We can write Python code to simulate a Markov chain. The following code simulates a Markov chain with 12 states. The simulation can then be plotted to visualize the evolution of the chain."
   ]
  },
  {
   "cell_type": "code",
   "execution_count": 2,
   "metadata": {},
   "outputs": [
    {
     "data": {
      "image/png": "[encoded data removed]",
      "text/plain": [
       "<Figure size 720x432 with 1 Axes>"
      ]
     },
     "metadata": {
      "needs_background": "light"
     },
     "output_type": "display_data"
    }
   ],
   "source": [
    "import numpy as np\n",
    "import matplotlib.pyplot as plt\n",
    "\n",
    "# give me a numpy array of transition probabilities that is 12x12\n",
    "\n",
    "# Transition probabilities\n",
    "P = np.array([[0.5, 0.3, 0.2, 0, 0, 0, 0, 0, 0, 0, 0, 0],\n",
    "                [0.2, 0.5, 0.2, 0.1, 0, 0, 0, 0, 0, 0, 0, 0],\n",
    "                [0.1, 0.2, 0.5, 0.2, 0, 0, 0, 0, 0, 0, 0, 0],\n",
    "                [0, 0.1, 0.2, 0.5, 0.2, 0, 0, 0, 0, 0, 0, 0],\n",
    "                [0, 0, 0.1, 0.2, 0.5, 0.2, 0, 0, 0, 0, 0, 0],\n",
    "                [0, 0, 0, 0.1, 0.2, 0.5, 0.2, 0, 0, 0, 0, 0],\n",
    "                [0, 0, 0, 0, 0.1, 0.2, 0.5, 0.2, 0, 0, 0, 0],\n",
    "                [0, 0, 0, 0, 0, 0.1, 0.2, 0.5, 0.2, 0, 0, 0],\n",
    "                [0, 0, 0, 0, 0, 0, 0.1, 0.2, 0.5, 0.2, 0, 0],\n",
    "                [0, 0, 0, 0, 0, 0, 0, 0.1, 0.2, 0.5, 0.2, 0],\n",
    "                [0, 0, 0, 0, 0, 0, 0, 0, 0.1, 0.2, 0.5, 0.2],\n",
    "                [0, 0, 0, 0, 0, 0, 0, 0, 0, 0.1, 0.2, 0.5]])\n",
    "\n",
    "# Initial state\n",
    "X = 0\n",
    "\n",
    "# Number of steps\n",
    "N = 1000\n",
    "\n",
    "# Simulate the Markov chain\n",
    "Xs = [X]\n",
    "for n in range(N):\n",
    "    # Sample the next state given the current state\n",
    "    X = np.random.choice([0, 1, 2, 3, 4, 5, 6, 7, 8, 9, 10, 11], p=P[X, :])\n",
    "    Xs.append(X)\n",
    "\n",
    "# Plot the Markov chain\n",
    "plt.figure(figsize=(10, 6))\n",
    "plt.step(range(N+1), Xs, where='post')\n",
    "plt.xlabel('Time')\n",
    "plt.ylabel('State')\n",
    "plt.show()"
   ]
  },
  {
   "attachments": {},
   "cell_type": "markdown",
   "metadata": {},
   "source": [
    "Or with fewer states:"
   ]
  },
  {
   "cell_type": "code",
   "execution_count": 2,
   "metadata": {},
   "outputs": [
    {
     "data": {
      "image/png": "[encoded data removed]",
      "text/plain": [
       "<Figure size 720x432 with 1 Axes>"
      ]
     },
     "metadata": {
      "needs_background": "light"
     },
     "output_type": "display_data"
    }
   ],
   "source": [
    "# Transition matrix\n",
    "P = np.array([[0.5, 0.3, 0.2],\n",
    "              [0.2, 0.5, 0.3],\n",
    "              [0.3, 0.2, 0.5]])\n",
    "\n",
    "# Initial state\n",
    "X = 0\n",
    "\n",
    "# Number of steps\n",
    "N = 100\n",
    "\n",
    "# Simulate the Markov chain\n",
    "Xs = [X]\n",
    "for n in range(N):\n",
    "    X = np.random.choice([0, 1, 2], p=P[X, :])\n",
    "    Xs.append(X)\n",
    "\n",
    "# Plot the Markov chain\n",
    "plt.figure(figsize=(10, 6))\n",
    "plt.step(range(N+1), Xs, where='post')\n",
    "plt.xlabel('Time')\n",
    "plt.ylabel('State')\n",
    "plt.show()"
   ]
  },
  {
   "attachments": {},
   "cell_type": "markdown",
   "metadata": {},
   "source": [
    "### **Distribution Evolution**"
   ]
  },
  {
   "attachments": {},
   "cell_type": "markdown",
   "metadata": {},
   "source": [
    "Markov processes have cool and simply properties which allow us to directly calculate the evolution of the probability distribution through time, using basic linear algebra! How cool is that? Let's see how this works.\n",
    "\n",
    "In practice, if we're given the probability distribution at time step 0, we can calculate the probability distribution at time step 1. This is done by multiplying the transition probability matrix by the initial distribution. We can then calculate the distribution at time step 2 by multiplying the transition probability matrix by the distribution at time step 1. This process can be repeated to calculate the distribution at any time step!\n",
    "\n",
    "Consider a state space $X_n \\in S = \\{0,1,2,\\ldots,r\\}$, where $r$ is the number of states.\n",
    "The initial distribution, $\\pi^{(0)}$, is defined by the row vector:\n",
    "\n",
    "$$\\pi^{(0)} = [P(X_0=0), P(X_0=1), \\ldots, P(X_0=r)]$$\n",
    "\n",
    "The distribution at the next time step can be determined using the **Law of Total Probability**:\n",
    "\n",
    "$$P(X_1=j) = \\sum_{j=0}^r P(X_1=j|X_{0}=i)P(X_{0}=j)$$\n",
    "\n",
    "of course we recognize this as a matrix multiplication:\n",
    "\n",
    "$$\\pi^{(1)} = \\pi^{(0)}p$$\n",
    "\n",
    "and in general:\n",
    "\n",
    "$$\\pi^{(n)} = \\pi^{(n-1)}p$$\n",
    "\n",
    "$$\\pi^{(n)} = \\pi^{(0)}p^n$$\n",
    "\n",
    "All you have to do is calculate the matrix $p$ and the initial distribution $\\pi^{(0)}$ and you can calculate the distribution at any time step!"
   ]
  },
  {
   "attachments": {},
   "cell_type": "markdown",
   "metadata": {},
   "source": [
    "Now what if we ask another question. What is the probability of going from state $i$ to state $j$ in $2$ steps? Once again, we can use the law of total probability:\n",
    "\n",
    "$$P(X_2=j|X_0=i) = \\sum_{k=0}^r P(X_2=j|X_{1}=k,X_{0}=i)P(X_{1}=k|X_{0}=i)$$\n",
    "\n"
   ]
  },
  {
   "cell_type": "markdown",
   "metadata": {},
   "source": []
  },
  {
   "attachments": {},
   "cell_type": "markdown",
   "metadata": {},
   "source": [
    "### **Sources**"
   ]
  },
  {
   "attachments": {},
   "cell_type": "markdown",
   "metadata": {},
   "source": [
    "Introduction. (n.d.). Www.probabilitycourse.com. Retrieved January 25, 2023, from https://www.probabilitycourse.com/chapter11/11_2_1_introduction.php\n",
    "\n",
    "‌Markov Chains | Brilliant Math & Science Wiki. (n.d.). Brilliant.org. https://brilliant.org/wiki/markov-chains/#:~:text=A%20Markov%20chain%20is%20a"
   ]
  }
 ],
 "metadata": {
  "kernelspec": {
   "display_name": "base",
   "language": "python",
   "name": "python3"
  },
  "language_info": {
   "codemirror_mode": {
    "name": "ipython",
    "version": 3
   },
   "file_extension": ".py",
   "mimetype": "text/x-python",
   "name": "python",
   "nbconvert_exporter": "python",
   "pygments_lexer": "ipython3",
   "version": "3.7.3 (default, Apr 24 2019, 15:29:51) [MSC v.1915 64 bit (AMD64)]"
  },
  "orig_nbformat": 4,
  "vscode": {
   "interpreter": {
    "hash": "ad2bdc8ecc057115af97d19610ffacc2b4e99fae6737bb82f5d7fb13d2f2c186"
   }
  }
 },
 "nbformat": 4,
 "nbformat_minor": 2
}
