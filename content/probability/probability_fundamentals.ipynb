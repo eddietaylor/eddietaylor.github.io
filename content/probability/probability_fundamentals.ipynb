{
 "cells": [
  {
   "attachments": {},
   "cell_type": "markdown",
   "metadata": {},
   "source": [
    "<figure>\n",
    "  <center><img style='height: 100%; width: 100%; object-fit: contain' src=\"../images/dalle_dice.png\" /></center>\n",
    "  <center><figcaption>What do I need to know to understand the logic of science??</figcaption></center>\n",
    "</figure>"
   ]
  },
  {
   "attachments": {},
   "cell_type": "markdown",
   "metadata": {},
   "source": [
    "### **What is Probability Theory?**"
   ]
  },
  {
   "attachments": {},
   "cell_type": "markdown",
   "metadata": {},
   "source": [
    "Probability theory is the mathematical framework for reasoning about the random nature of our world. It is a powerful tool that can be used to make predictions about the future, and to make decisions under uncertainty. But what do we mean by \"randomness\"? Maybe we mean that our knowledge of an outcome is incomplete or uncertain. What do we mean by \"probability\"? Maybe we mean subject belief or relative frequency of an event. For example, the probability of a coin landing heads is 0.5. One might argue that this is the case because we know that the coin is fair, or because we have observed that the coin has landed heads 50% of the time. In the first case, this is a case given by a Bayesian, and in the second case, this is a case given by a frequentist. Regardless of the definition, you can still successfully utilize probability theory to make predictions about the future, and to make decisions under uncertainty."
   ]
  },
  {
   "attachments": {},
   "cell_type": "markdown",
   "metadata": {},
   "source": [
    "### **The Basics of Set Theory You Need to Know!**"
   ]
  },
  {
   "attachments": {},
   "cell_type": "markdown",
   "metadata": {},
   "source": [
    "A set $S$ is simply a collection of objects and its notation, using curly brackets, goes like\n",
    "\n",
    "$$S = \\{1, 2, 3, 4\\}$$\n",
    "\n",
    "For example. Order does not matter and we can also state properties of the set using:\n",
    "\n",
    "$$S = \\{x \\in \\mathbb{Z} | x > 0\\}$$\n",
    "\n",
    "Where $\\mathbb{Z}$ is the set of integers, $\\in$ is the \"element of\" symbol, and $|$ is the \"such that\" symbol. This is read as \"the set of all integers $x$ such that $x$ is greater than 0\". But what exactly is $\\mathbb{Z}$? It is the set of all integers, which is defined as:\n",
    "\n",
    "$$\\mathbb{Z} = \\{...,-2, -1, 0, 1, 2, ...\\}$$\n",
    "\n",
    "Some of the most important sets are:\n",
    "\n",
    "- $\\mathbb{N}$: The set of all natural numbers, which is defined as:\n",
    "\n",
    "$$\\mathbb{N} = \\{1, 2, 3, ...\\}$$\n",
    "\n",
    "- $\\mathbb{Z}$: The set of all integers, which is defined as:\n",
    "\n",
    "$$\\mathbb{Z} = \\{...,-2, -1, 0, 1, 2, ...\\}$$\n",
    "\n",
    "- $\\mathbb{Q}$: The set of all rational numbers (any number which can be expressed as a ratio of numbers), which is defined as:\n",
    "\n",
    "$$\\mathbb{Q} = \\{p/q | p, q \\in \\mathbb{Z}, q \\neq 0\\}$$\n",
    "\n",
    "- $\\mathbb{C}$: The set of all complex numbers, which is defined as:\n",
    "\n",
    "$$\\mathbb{C} = \\{a + bi | a, b \\in \\mathbb{R}\\}$$\n",
    "\n",
    "Additionally, a set $A$ is a subset of $B$ if all of $A$'s elements are also in $B$. This is denoted by $A \\subseteq B$. For example, \n",
    "\n",
    "$$ \\{1, 2, 3\\} \\subseteq \\{1, 2, 3, 4\\} $$\n",
    "\n",
    "Other examples include $\\mathbb{N} \\subseteq \\mathbb{Z}$, and $\\mathbb{Z} \\subseteq \\mathbb{Q}$. \n",
    "\n",
    "The **Universal Set** is the set of all possible outcomes of an experiment. For example, if we flip a coin, the universal set is $\\{H, T\\}$. If we roll a die, the universal set is $\\{1, 2, 3, 4, 5, 6\\}$. If we roll two dice, the universal set is $\\{1, 2, 3, 4, 5, 6\\} \\times \\{1, 2, 3, 4, 5, 6\\} = \\{(1, 1), (1, 2), (1, 3), ..., (6, 6)\\}$.\n",
    "\n",
    "With regards to Set operations, there are three main operations: **Union**, **Intersection**, **Complement**, and **Subtraction**. Here's the quick rundown: \n",
    "\n",
    "  - The **Union** of two sets $A$ and $B$ is the set of all elements that are in $A$ or $B$ or both. This is denoted by $A \\cup B$. For example,\n",
    "\n",
    "$$ \\{1, 2, 3\\} \\cup \\{3, 4, 5\\} = \\{1, 2, 3, 4, 5\\} $$\n",
    "\n",
    "  - The **Intersection** of two sets $A$ and $B$ is the set of all elements that are in $A$ and $B$. This is denoted by $A \\cap B$. For example,\n",
    "\n",
    "$$ \\{1, 2, 3\\} \\cap \\{3, 4, 5\\} = \\{3\\} $$\n",
    "\n",
    "  - The **Complement** of a set $A$ is the set of all elements that are not in $A$. This is denoted by $A^c$ (or $\\bar{A}$). For example,\n",
    "\n",
    "$$ \\{1, 2, 3\\}^c = \\{4, 5, 6, ...\\} $$\n",
    "\n",
    "  - **Subtraction** is defined as the set of all elements that are in $A$ but not in $B$. This is denoted by $A - B$ and is equivalent to $A \\cap B^c$. For example,\n",
    "\n",
    "$$\\{1, 2, 3\\} - \\{3, 4, 5\\} = \\{1, 2\\} $$\n",
    "\n",
    "**Mutually Exclusive** (or disjoint) sets are sets that have no elements in common. For example, $\\{1, 2, 3\\}$ and $\\{4, 5, 6\\}$ are mutually exclusive. Formally, two sets $A$ and $B$ are mutually exclusive if $A \\cap B = \\emptyset$, where $\\emptyset$ is the empty set, $\\{\\}$.\n",
    "\n",
    "The **Partition** of a set $A$ is a collection of sets that are pairwise disjoint (any pair is disjoint) and their union is $A$. For example, \n",
    "\n",
    "$$ \\text{a partition of } \\{1, 2, 3, 4\\} \\text{ is } \\{\\{1, 2\\}, \\{3, 4\\}\\}$$\n",
    "\n",
    "Another example would be the US states which form a partition of the US, since they are pairwise disjoint and their union is the US.\n",
    "\n",
    "To define our higher dimensional space, we use the **Cartesian product**. The Cartesian product of two sets $A$ and $B$ is the set of all ordered pairs $(a, b)$ where $a \\in A$ and $b \\in B$. For example,\n",
    "\n",
    "$$ \\{1, 2, 3\\} \\times \\{4, 5, 6\\} = \\{(1, 4), (1, 5), (1, 6), (2, 4), (2, 5), (2, 6), (3, 4), (3, 5), (3, 6)\\} $$\n",
    "\n",
    "and is formally defined as:\n",
    "\n",
    "$$ A \\times B = \\{(a, b) | a \\in A, b \\in B\\} $$\n",
    "\n",
    "When we speak about **Cardinality**, we are referring to the number of elements in a set. For example, the cardinality of $\\{1, 2, 3\\}$ is 3. The cardinality of a set $A$ is denoted by $|A|$. Countability means that there is a one-to-one correspondence between the elements of the set and the natural numbers. There are infinite sets which are countable like $\\mathbb{N}$, $\\mathbb{Z}$, and $\\mathbb{Q}$. There are also finite sets that are not countable like any interval on the real line, for example, $\\left[0, 1\\right)$.\n",
    "\n",
    "For finite sets, we have a useful equation known as the inclusion-exclusion principle:\n",
    "\n",
    "$$ |A \\cup B| = |A| + |B| - |A \\cap B| $$\n",
    "\n",
    "Intuitively, when we are counting the number of elements in $A \\cup B$, we are counting the number of elements in $A$ and $B$ twice, so we subtract the number of elements in $A \\cap B$ to get the correct answer.\n",
    "\n",
    "The nice thing about cartesian products and cardinality is that the cardinality of a cartesian product is the product of the cardinalities of the sets. For example, the cardinality of $\\{1, 2, 3\\} \\times \\{4, 5, 6\\}$ is $|A| \\times |B| = 3 \\times 3 = 9$. This is formally defined as:\n",
    "\n",
    "$$ |A \\times B| = |A| \\times |B| $$\n",
    "\n",
    "One last thing is functions. A function, $f$, is a mapping from one set, the domain, to another set, the codomain. Calling $A$ the domain and $B$ the codomain,\n",
    "\n",
    "$$ f: A \\rightarrow B $$\n",
    "\n",
    "For example, the function $f(x) = x^2$ is a function from $\\mathbb{R}$ to $\\mathbb{R}$, since the domain and codomain are both the set of real numbers. The set of all possible outputs of a function is called the **range** of the function and is denoted by $range(f)$. For example, \n",
    "\n",
    "$$ f: \\mathbb{R} \\rightarrow \\mathbb{R} \\text{ defined as } f(x) = |x| $$\n",
    "\n",
    "$$ \\text{then } range(f) = \\mathbb{R}^{+} = \\{x \\in \\mathbb{R} | x \\geq 0\\} $$"
   ]
  },
  {
   "cell_type": "markdown",
   "metadata": {},
   "source": [
    "### **Probabilistic Conception of Experiments**"
   ]
  },
  {
   "attachments": {},
   "cell_type": "markdown",
   "metadata": {},
   "source": [
    "There are five main concepts to get started with thinking of experiments in a probabilistic way:\n",
    "\n",
    "  - **Experiment**: An experiment is a procedure where we observe the outcome of a random phenomenon, for example the flipping of a coin.\n",
    "\n",
    "  - **Outcome**: The outcome of an experiment is essentially the result of the experiment. For example, if we flip a coin, the outcome is either heads or tails.\n",
    "\n",
    "  - **Sample Space**: The set of all possible outcomes of an experiment is called the sample space of the experiment, which is the universal set of the experiment. For example, if we draw a card from a deck of cards, the sample space is $\\{1, 2, 3, 4, 5, 6, 7, 8, 9, 10, J, Q, K\\}$.\n",
    "\n",
    "  - **Trial**: When we start repeating an experiment, we call each one of them a trial. For example, if we flip a coin 10 times, we have 10 trials.\n",
    "\n",
    "  - **Event**: An event of an experiment is a collection of possible outcomes. It is a subset of the sample space and this is typically what we're trying to assign a probability to. For example, the event of getting an odd number when we roll a die is the set $\\{1, 3, 5\\}$ and the probability of this event is $\\frac{1}{2}$."
   ]
  },
  {
   "cell_type": "markdown",
   "metadata": {},
   "source": [
    "### **What's Probability Again?**"
   ]
  },
  {
   "attachments": {},
   "cell_type": "markdown",
   "metadata": {},
   "source": [
    "The **Probability** of an event $A$ is a number between 0 and 1 that tells us how likely it is that the event will occur. If it is close to 0, then the event is unlikely to occur. If it is close to 1, then the event is highly likely to occur. The probability of an event $A$ is denoted by $P(A)$. This leads us into the **Kolmogorov axioms of probability**:\n",
    "\n",
    "**Axiom of Probability**\n",
    "\n",
    "  1. $P(A) \\geq 0$ for all events $A$.\n",
    "\n",
    "  2. $P(\\Omega) = 1$, where $\\Omega$ is the sample space.\n",
    "\n",
    "  3. If $A_1, A_2, A_3, ...$ are mutually exclusive events, then\n",
    "\n",
    "$$ P(\\bigcup_{i=1}^{\\infty} A_i) = \\sum_{i=1}^{\\infty} P(A_i) $$\n",
    "\n",
    "Number 1 is self-explanatory. Number 2 basically means that the sample space must be chosen such that *something* happens. Number 3 says that if some events are mutually exclusive, then the probability of any of them happening is the sum of the probabilities of each of them happening.\n",
    "\n",
    "Lets use the axioms to solve a basic problem. If you roll a die, what is the probability of an odd number? \n",
    "\n",
    "We know that the sample space is $\\{1, 2, 3, 4, 5, 6\\}$ and that the event of getting an odd number is $\\{1, 3, 5\\}$. \n",
    "\n",
    "Since the events are mutually exclusive, we can use axiom 3:\n",
    "\n",
    "$$ P(\\{1, 3, 5\\}) = P(\\{1\\}) + P(\\{3\\}) + P(\\{5\\}) $$\n",
    "\n",
    "Using axiom 2, we know that $P(\\Omega) = 1$ which means that\n",
    "\n",
    " $$P(\\{1\\}\\cup\\{2\\}\\cup\\{3\\}\\cup\\{4\\}\\cup\\{5\\}\\cup\\{6\\}) = 1$$\n",
    "\n",
    "$$P(\\{1\\}) + P(\\{2\\}) + P(\\{3\\}) + P(\\{4\\}) + P(\\{5\\}) + P(\\{6\\}) = 1$$\n",
    "\n",
    "and knowing that all outcomes are equally likely, we can say that\n",
    "\n",
    "$$P(\\{1\\}) = P(\\{2\\}) = P(\\{3\\}) = P(\\{4\\}) = P(\\{5\\}) = P(\\{6\\}) = \\frac{1}{6}$$\n",
    "\n",
    "therefore,\n",
    "\n",
    "$$P(\\{1\\}) + P(\\{3\\}) + P(\\{5\\}) = \\frac{1}{6} + \\frac{1}{6} + \\frac{1}{6} = \\frac{1}{2}$$\n",
    "\n",
    "Useful formulas which follow from the axioms are:\n",
    "\n",
    "$$ P(A - B) = P(A) - P(A \\cap B) $$\n",
    "\n",
    "$$ P(A \\cup B) = P(A) + P(B) - P(A \\cap B) $$\n",
    "\n",
    "The second one being the extension of the third axiom to non-mutually exclusive events, for example if the faces of the die had more than one number on them. \n",
    "\n",
    "Another key result which follows from the axioms is that in a finite sample space, where all outcomes are equally likely, the probability of an event is the number of outcomes in the event divided by the number of outcomes in the sample space:\n",
    "\n",
    "$$ P(A) = \\frac{|A|}{|S|} $$\n",
    "\n",
    "In practice, we obviously prefer to start from here, instead of starting from the axioms. But as this formula suggests, countability is key for calculating probabilities."
   ]
  },
  {
   "attachments": {},
   "cell_type": "markdown",
   "metadata": {},
   "source": [
    "### **Sources**"
   ]
  },
  {
   "attachments": {},
   "cell_type": "markdown",
   "metadata": {},
   "source": [
    "Wikipedia Contributors. (2022, March 19). Inclusion–exclusion principle. Wikipedia; Wikimedia Foundation. https://en.wikipedia.org/wiki/Inclusion%E2%80%93exclusion_principle\n",
    "\n",
    "‌Probability, Statistics & Random Processes | Free Textbook | Course. (n.d.). Www.probabilitycourse.com. https://www.probabilitycourse.com/\n",
    "\n",
    "Wikipedia Contributors. (2019, December 5). Probability axioms. Wikipedia; Wikimedia Foundation. https://en.wikipedia.org/wiki/Probability_axioms"
   ]
  }
 ],
 "metadata": {
  "kernelspec": {
   "display_name": "base",
   "language": "python",
   "name": "python3"
  },
  "language_info": {
   "codemirror_mode": {
    "name": "ipython",
    "version": 3
   },
   "file_extension": ".py",
   "mimetype": "text/x-python",
   "name": "python",
   "nbconvert_exporter": "python",
   "pygments_lexer": "ipython3",
   "version": "3.7.3"
  },
  "orig_nbformat": 4,
  "vscode": {
   "interpreter": {
    "hash": "ad2bdc8ecc057115af97d19610ffacc2b4e99fae6737bb82f5d7fb13d2f2c186"
   }
  }
 },
 "nbformat": 4,
 "nbformat_minor": 2
}
