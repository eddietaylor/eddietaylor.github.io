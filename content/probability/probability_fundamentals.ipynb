{
 "cells": [
  {
   "attachments": {},
   "cell_type": "markdown",
   "metadata": {},
   "source": [
    "### **What is Probability Theory?**"
   ]
  },
  {
   "attachments": {},
   "cell_type": "markdown",
   "metadata": {},
   "source": [
    "Probability theory is the mathematical framework for reasoning about the random nature of our world. It is a powerful tool that can be used to make predictions about the future, and to make decisions under uncertainty. But what do we mean by \"randomness\"? Maybe we mean that our knowledge of an outcome is incomplete or uncertain. What do we mean by \"probability\"? Maybe we mean subject belief or relative frequency of an event. For example, the probability of a coin landing heads is 0.5. One might argue that this is the case because we know that the coin is fair, or because we have observed that the coin has landed heads 50% of the time. In the first case, this is a case given by a Bayesian, and in the second case, this is a case given by a frequentist. Regardless of the definition, you can still successfully utilize probability theory to make predictions about the future, and to make decisions under uncertainty."
   ]
  },
  {
   "attachments": {},
   "cell_type": "markdown",
   "metadata": {},
   "source": [
    "### **The Basics of Set Theory You Need to Know!**"
   ]
  },
  {
   "attachments": {},
   "cell_type": "markdown",
   "metadata": {},
   "source": [
    "A set $S$ is simply a collection of objects and its notation, using curly brackets, goes like\n",
    "\n",
    "$$S = \\{1, 2, 3, 4\\}$$\n",
    "\n",
    "For example. Order does not matter and we can also state properties of the set using:\n",
    "\n",
    "$$S = \\{x \\in \\mathbb{Z} | x > 0\\}$$\n",
    "\n",
    "Where $\\mathbb{Z}$ is the set of integers, $\\in$ is the \"element of\" symbol, and $|$ is the \"such that\" symbol. This is read as \"the set of all integers $x$ such that $x$ is greater than 0\". But what exactly is $\\mathbb{Z}$? It is the set of all integers, which is defined as:\n",
    "\n",
    "$$\\mathbb{Z} = \\{...,-2, -1, 0, 1, 2, ...\\}$$\n",
    "\n",
    "Some of the most important sets are:\n",
    "\n",
    "- $\\mathbb{N}$: The set of all natural numbers, which is defined as:\n",
    "\n",
    "$$\\mathbb{N} = \\{1, 2, 3, ...\\}$$\n",
    "\n",
    "- $\\mathbb{Z}$: The set of all integers, which is defined as:\n",
    "\n",
    "$$\\mathbb{Z} = \\{...,-2, -1, 0, 1, 2, ...\\}$$\n",
    "\n",
    "- $\\mathbb{Q}$: The set of all rational numbers (any number which can be expressed as a ratio of numbers), which is defined as:\n",
    "\n",
    "$$\\mathbb{Q} = \\{p/q | p, q \\in \\mathbb{Z}, q \\neq 0\\}$$\n",
    "\n",
    "- $\\mathbb{C}$: The set of all complex numbers, which is defined as:\n",
    "\n",
    "$$\\mathbb{C} = \\{a + bi | a, b \\in \\mathbb{R}\\}$$\n",
    "\n",
    "Additionally, a set $A$ is a subset of $B$ if all of $A$'s elements are also in $B$. This is denoted by $A \\subseteq B$. For example, \n",
    "\n",
    "$$ \\{1, 2, 3\\} \\subseteq \\{1, 2, 3, 4\\} $$\n",
    "\n",
    "Other examples include $\\mathbb{N} \\subseteq \\mathbb{Z}$, and $\\mathbb{Z} \\subseteq \\mathbb{Q}$. \n",
    "\n",
    "The **Universal Set** is the set of all possible outcomes of an experiment. For example, if we flip a coin, the universal set is $\\{H, T\\}$. If we roll a die, the universal set is $\\{1, 2, 3, 4, 5, 6\\}$. If we roll two dice, the universal set is $\\{1, 2, 3, 4, 5, 6\\} \\times \\{1, 2, 3, 4, 5, 6\\} = \\{(1, 1), (1, 2), (1, 3), ..., (6, 6)\\}$.\n",
    "\n",
    "With regards to Set operations, there are three main operations: **Union**, **Intersection**, **Complement**, and **Subtraction**. Here's the quick rundown: \n",
    "\n",
    "  - The **Union** of two sets $A$ and $B$ is the set of all elements that are in $A$ or $B$ or both. This is denoted by $A \\cup B$. For example,\n",
    "\n",
    "$$ \\{1, 2, 3\\} \\cup \\{3, 4, 5\\} = \\{1, 2, 3, 4, 5\\} $$\n",
    "\n",
    "  - The **Intersection** of two sets $A$ and $B$ is the set of all elements that are in $A$ and $B$. This is denoted by $A \\cap B$. For example,\n",
    "\n",
    "$$ \\{1, 2, 3\\} \\cap \\{3, 4, 5\\} = \\{3\\} $$\n",
    "\n",
    "  - The **Complement** of a set $A$ is the set of all elements that are not in $A$. This is denoted by $A^c$ (or $\\bar{A}$). For example,\n",
    "\n",
    "$$ \\{1, 2, 3\\}^c = \\{4, 5, 6, ...\\} $$\n",
    "\n",
    "  - **Subtraction** is defined as the set of all elements that are in $A$ but not in $B$. This is denoted by $A - B$ and is equivalent to $A \\cap B^c$. For example,\n",
    "\n",
    "$$\\{1, 2, 3\\} - \\{3, 4, 5\\} = \\{1, 2\\} $$\n",
    "\n",
    "**Mutually Exclusive** (or disjoint) sets are sets that have no elements in common. For example, $\\{1, 2, 3\\}$ and $\\{4, 5, 6\\}$ are mutually exclusive. Formally, two sets $A$ and $B$ are mutually exclusive if $A \\cap B = \\emptyset$, where $\\emptyset$ is the empty set, $\\{\\}$.\n",
    "\n",
    "The **Partition** of a set $A$ is a collection of sets that are pairwise disjoint (any pair is disjoint) and their union is $A$. For example, \n",
    "\n",
    "$$ \\text{a partition of } \\{1, 2, 3, 4\\} \\text{ is } \\{\\{1, 2\\}, \\{3, 4\\}\\}$$\n",
    "\n",
    "Another example would be the US states which form a partition of the US, since they are pairwise disjoint and their union is the US.\n",
    "\n",
    "To define our higher dimensional space, we use the **Cartesian product**. The Cartesian product of two sets $A$ and $B$ is the set of all ordered pairs $(a, b)$ where $a \\in A$ and $b \\in B$. For example,\n",
    "\n",
    "$$ \\{1, 2, 3\\} \\times \\{4, 5, 6\\} = \\{(1, 4), (1, 5), (1, 6), (2, 4), (2, 5), (2, 6), (3, 4), (3, 5), (3, 6)\\} $$\n",
    "\n",
    "and is formally defined as:\n",
    "\n",
    "$$ A \\times B = \\{(a, b) | a \\in A, b \\in B\\} $$\n",
    "\n",
    "When we speak about **Cardinality**, we are referring to the number of elements in a set. For example, the cardinality of $\\{1, 2, 3\\}$ is 3. The cardinality of a set $A$ is denoted by $|A|$. Countability means that there is a one-to-one correspondence between the elements of the set and the natural numbers. There are infinite sets which are countable like $\\mathbb{N}$, $\\mathbb{Z}$, and $\\mathbb{Q}$. There are also finite sets that are not countable like any interval on the real line, for example, $\\left[0, 1\\right)$.\n",
    "\n",
    "For finite sets, we have a useful equation known as the inclusion-exclusion principle:\n",
    "\n",
    "$$ |A \\cup B| = |A| + |B| - |A \\cap B| $$\n",
    "\n",
    "Intuitively, when we are counting the number of elements in $A \\cup B$, we are counting the number of elements in $A$ and $B$ twice, so we subtract the number of elements in $A \\cap B$ to get the correct answer.\n",
    "\n",
    "The nice thing about cartesian products and cardinality is that the cardinality of a cartesian product is the product of the cardinalities of the sets. For example, the cardinality of $\\{1, 2, 3\\} \\times \\{4, 5, 6\\}$ is $|A| \\times |B| = 3 \\times 3 = 9$. This is formally defined as:\n",
    "\n",
    "$$ |A \\times B| = |A| \\times |B| $$\n",
    "\n",
    "One last thing is functions. A function, $f$, is a mapping from one set, the domain, to another set, the codomain. Calling $A$ the domain and $B$ the codomain,\n",
    "\n",
    "$$ f: A \\rightarrow B $$\n",
    "\n",
    "For example, the function $f(x) = x^2$ is a function from $\\mathbb{R}$ to $\\mathbb{R}$, since the domain and codomain are both the set of real numbers. The set of all possible outputs of a function is called the **range** of the function and is denoted by $range(f)$. For example, \n",
    "\n",
    "$$ f: \\mathbb{R} \\rightarrow \\mathbb{R} \\text{ defined as } f(x) = |x| $$\n",
    "\n",
    "$$ \\text{then } range(f) = \\mathbb{R}^{+} = \\{x \\in \\mathbb{R} | x \\geq 0\\} $$"
   ]
  }
 ],
 "metadata": {
  "kernelspec": {
   "display_name": "base",
   "language": "python",
   "name": "python3"
  },
  "language_info": {
   "codemirror_mode": {
    "name": "ipython",
    "version": 3
   },
   "file_extension": ".py",
   "mimetype": "text/x-python",
   "name": "python",
   "nbconvert_exporter": "python",
   "pygments_lexer": "ipython3",
   "version": "3.7.3"
  },
  "orig_nbformat": 4,
  "vscode": {
   "interpreter": {
    "hash": "ad2bdc8ecc057115af97d19610ffacc2b4e99fae6737bb82f5d7fb13d2f2c186"
   }
  }
 },
 "nbformat": 4,
 "nbformat_minor": 2
}
