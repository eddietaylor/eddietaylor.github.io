{
 "cells": [
  {
   "attachments": {},
   "cell_type": "markdown",
   "metadata": {},
   "source": [
    "Probability distributions are mathematical functions that describe the likelihood of different outcomes in a random event. In statistics, there are three main types of probability distributions: marginal, joint, and conditional. Each type describes a different aspect of the probability of a certain outcome or set of outcomes.\n",
    "\n",
    "A marginal probability distribution describes the likelihood of a single event occurring, independent of other events. For example, if we have a random variable $X$, the marginal probability distribution of $X$ is represented by $P(X=x)$, where $x$ is a possible outcome of the variable $X$. The sum of all the possible outcomes of the marginal probability distribution will always be equal to 1.\n",
    "\n",
    "A joint probability distribution describes the likelihood of two or more events occurring simultaneously. For example, if we have two random variables $X$ and $Y$, the joint probability distribution of $X$ and $Y$ is represented by $P(X=x, Y=y)$, where $x$ and $y$ are possible outcomes of the variables $X$ and $Y$ respectively. The sum of all the possible outcomes of the joint probability distribution will also always be equal to 1.\n",
    "\n",
    "A conditional probability distribution is the probability of a certain outcome of a random variable given that another event has already occurred. For example, if we have two random variables $X$ and $Y$, the conditional probability distribution of $X$ given $Y$ is represented by $P(X=x|Y=y)$, where $x$ and $y$ are possible outcomes of the variables $X$ and $Y$ respectively. It gives the likelihood of the outcome of $X$ when $Y$ is fixed.\n",
    "\n",
    "The relationship between these three probability distributions can be represented mathematically using the following equations:\n",
    "\n",
    "$$P(X=x) = \\Sigma P(X=x, Y=y) \\forall y$$\n",
    "\n",
    "$$P(X=x, Y=y) = P(X=x|Y=y) * P(Y=y)$$\n",
    "\n",
    "$$P(X=x|Y=y) = P(X=x, Y=y) / P(Y=y)$$\n",
    "\n",
    "It's important to note that these equations hold true only if the events are independent and mutually exclusive. If events are dependent on each other, these equations will not hold true and the probabilities will be different.\n",
    "\n",
    "To sum up, marginal probability distribution describes the likelihood of a single event occurring, joint probability distribution describes the likelihood of two or more events occurring simultaneously and conditional probability distribution describes the likelihood of a certain outcome of a random variable given that another event has already occurred. These three probability distributions can be related to each other through mathematical equations, but it is important to remember that these equations hold true only if the events are independent and mutually exclusive."
   ]
  }
 ],
 "metadata": {
  "kernelspec": {
   "display_name": "base",
   "language": "python",
   "name": "python3"
  },
  "language_info": {
   "name": "python",
   "version": "3.7.3 (default, Apr 24 2019, 15:29:51) [MSC v.1915 64 bit (AMD64)]"
  },
  "orig_nbformat": 4,
  "vscode": {
   "interpreter": {
    "hash": "ad2bdc8ecc057115af97d19610ffacc2b4e99fae6737bb82f5d7fb13d2f2c186"
   }
  }
 },
 "nbformat": 4,
 "nbformat_minor": 2
}
